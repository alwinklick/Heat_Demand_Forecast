{
 "cells": [
  {
   "attachments": {},
   "cell_type": "markdown",
   "metadata": {},
   "source": [
    "# EDA\n",
    "\n",
    "Let's have a first look at the data. \n",
    "\n",
    "The Variables in the files are:\n",
    "* S1: heat power\n",
    "* S2: flow rate\n",
    "* S3: leader temperature (initial temperature)\n",
    "* S4: return temperature\n",
    "\n",
    "For the years 2020 and 2021 we also have the outside temperature at the location of the heat plant. \n",
    "\n",
    "We also have: \n",
    "* holydays in Bavaria (a lot!)\n",
    "* school vacations in Bavaria\n",
    "\n",
    "We will first focus only on the years 2020 and 2021, since here, we have all the data. For 2022, temperature is missing. "
   ]
  },
  {
   "attachments": {},
   "cell_type": "markdown",
   "metadata": {},
   "source": [
    "## Read the data"
   ]
  },
  {
   "cell_type": "code",
   "execution_count": null,
   "metadata": {},
   "outputs": [],
   "source": [
    "import pandas as pd\n",
    "import numpy as np\n",
    "#import seaborn as sns\n",
    "import plotly.graph_objs as go\n",
    "import plotly.express as px\n",
    "from plotly.subplots import make_subplots"
   ]
  },
  {
   "cell_type": "code",
   "execution_count": null,
   "metadata": {},
   "outputs": [],
   "source": [
    "df_2020 = pd.read_csv(\"../raw_data/2020_heat.csv\", delimiter=\";\", index_col=False)\n",
    "df_2021 = pd.read_csv(\"../raw_data/2021_heat.csv\", delimiter=\";\", index_col=False)\n",
    "df_2022 = pd.read_csv(\"../raw_data/2022_heat.csv\", delimiter=\";\", index_col=False)\n",
    "\n",
    "df = pd.concat([df_2020, df_2021, df_2022], ignore_index=True)\n",
    "df.rename({\"S1\": \"heat_power\", \"S2\": \"flow_rate\", \"S3\": \"leader_temp\", \"S4\": \"return_temp\"}, axis=1, inplace=True)\n",
    "df"
   ]
  },
  {
   "cell_type": "code",
   "execution_count": null,
   "metadata": {},
   "outputs": [],
   "source": [
    "df.info()"
   ]
  },
  {
   "cell_type": "code",
   "execution_count": null,
   "metadata": {},
   "outputs": [],
   "source": [
    "fig = px.line(data_frame=df, x=\"Timestamp\", y=\"heat_power\")\n",
    "fig.show()"
   ]
  },
  {
   "attachments": {},
   "cell_type": "markdown",
   "metadata": {},
   "source": [
    "As we can see, there are some mssing values in october of 2020. There are also some values of zero, and in summer of 2021 one extremely learge peak. I don't know what to make of these right now, I will ignore them for now. "
   ]
  },
  {
   "attachments": {},
   "cell_type": "markdown",
   "metadata": {},
   "source": [
    "## Fun with datetime\n",
    "Everyones favorite pasttime: dealing with the datetime. Basically, I want the naive but local dattime as a variable. For now, I am not going to use datetime as the index, because of thing like daylight savings time. \n"
   ]
  },
  {
   "cell_type": "code",
   "execution_count": null,
   "metadata": {},
   "outputs": [],
   "source": [
    "df.Timestamp = pd.to_datetime(df.Timestamp, infer_datetime_format=True, utc=True).dt.tz_convert(tz=\"Europe/Berlin\")\n"
   ]
  },
  {
   "cell_type": "code",
   "execution_count": null,
   "metadata": {},
   "outputs": [],
   "source": [
    "#df.Timestamp = df.Timestamp.dt.tz_convert(tz=\"Europe/Berlin\")"
   ]
  },
  {
   "cell_type": "code",
   "execution_count": null,
   "metadata": {},
   "outputs": [],
   "source": [
    "df.info()\n"
   ]
  },
  {
   "cell_type": "code",
   "execution_count": null,
   "metadata": {},
   "outputs": [],
   "source": [
    "df.head()"
   ]
  },
  {
   "attachments": {},
   "cell_type": "markdown",
   "metadata": {},
   "source": [
    "### Check for correlations\n",
    "My guess would be that heat power is proportional to temperature difference times flow rate."
   ]
  },
  {
   "cell_type": "code",
   "execution_count": null,
   "metadata": {},
   "outputs": [],
   "source": [
    "df[\"heat_flow_calc\"] = (df.leader_temp - df.return_temp) * df.flow_rate\n",
    "df.head()"
   ]
  },
  {
   "cell_type": "code",
   "execution_count": null,
   "metadata": {},
   "outputs": [],
   "source": [
    "# fig = px.scatter_matrix(df.drop(\"Timestamp\", axis=1))\n",
    "# fig.show()"
   ]
  },
  {
   "cell_type": "code",
   "execution_count": null,
   "metadata": {},
   "outputs": [],
   "source": [
    "fig = px.scatter(data_frame=df, x=\"heat_power\", y=\"heat_flow_calc\")\n",
    "fig.show()"
   ]
  },
  {
   "attachments": {},
   "cell_type": "markdown",
   "metadata": {},
   "source": [
    "That is indeed the case. So for now, we will drop all columns except the heat power. "
   ]
  },
  {
   "cell_type": "code",
   "execution_count": null,
   "metadata": {},
   "outputs": [],
   "source": [
    "df.drop([\"flow_rate\", \"leader_temp\", \"return_temp\", \"heat_flow_calc\"], axis=1, inplace=True)\n",
    "df.head()"
   ]
  },
  {
   "attachments": {},
   "cell_type": "markdown",
   "metadata": {},
   "source": [
    "## Feature engineering\n",
    "let's play with the datetime a bit."
   ]
  },
  {
   "cell_type": "code",
   "execution_count": null,
   "metadata": {},
   "outputs": [],
   "source": [
    "#df[\"date\"] = df.Timestamp.dt.date\n",
    "df[\"time\"] = df.Timestamp.dt.time\n",
    "df[\"hour\"] = df.Timestamp.dt.hour\n",
    "df[\"week_nr\"] = df.Timestamp.dt.isocalendar().week\n",
    "df[\"weekday\"] = df.Timestamp.dt.weekday"
   ]
  },
  {
   "cell_type": "code",
   "execution_count": null,
   "metadata": {},
   "outputs": [],
   "source": [
    "df.head()"
   ]
  },
  {
   "attachments": {},
   "cell_type": "markdown",
   "metadata": {},
   "source": [
    "I want to look how the hour, week and weekday and how it influences our heat demand. "
   ]
  },
  {
   "cell_type": "code",
   "execution_count": null,
   "metadata": {},
   "outputs": [],
   "source": [
    "# fig = make_subplots(rows=1, cols=3)\n",
    "# fig.add_scatter(x=df.time, y=df.heat_power, row=1, col=1, mode=\"markers\")\n",
    "# fig.add_scatter(x=df.weekday, y=df.heat_power, row=1, col=2, mode=\"markers\")\n",
    "# fig.add_scatter(x=df.week_nr, y=df.heat_power, row=1, col=3, mode=\"markers\")\n",
    "# fig.show()"
   ]
  },
  {
   "attachments": {},
   "cell_type": "markdown",
   "metadata": {},
   "source": [
    "Ok, we do not see really a lot. To get a better insight, we should do a proper averaging. "
   ]
  },
  {
   "cell_type": "code",
   "execution_count": null,
   "metadata": {},
   "outputs": [],
   "source": [
    "df.boxplot(by=\"hour\", column=\"heat_power\")"
   ]
  },
  {
   "attachments": {},
   "cell_type": "markdown",
   "metadata": {},
   "source": [
    "We see a maximum at about 9:00 and a minimum at about 17:00 with several ups and downs duting the night hours. "
   ]
  },
  {
   "cell_type": "code",
   "execution_count": null,
   "metadata": {},
   "outputs": [],
   "source": [
    "df.boxplot(by=\"weekday\", column=\"heat_power\")"
   ]
  },
  {
   "attachments": {},
   "cell_type": "markdown",
   "metadata": {},
   "source": [
    "No clear pattern visible here..."
   ]
  },
  {
   "cell_type": "code",
   "execution_count": null,
   "metadata": {},
   "outputs": [],
   "source": [
    "df.boxplot(by=\"week_nr\", column=\"heat_power\")"
   ]
  },
  {
   "attachments": {},
   "cell_type": "markdown",
   "metadata": {},
   "source": [
    "Should be no big surprise that the heat demand is larger in winter than in summer..."
   ]
  },
  {
   "attachments": {},
   "cell_type": "markdown",
   "metadata": {},
   "source": [
    "## Look at temperature\n",
    "For the years 2020 and 2021 we have the outside temperature at the plant location. Let's have a look!"
   ]
  },
  {
   "cell_type": "code",
   "execution_count": null,
   "metadata": {},
   "outputs": [],
   "source": [
    "temp2020 = pd.read_csv(\"../raw_data/2020_temp.csv\", delimiter=\";\", index_col=False)\n",
    "temp2021 = pd.read_csv(\"../raw_data/2021_temp.csv\", delimiter=\";\", index_col=False)\n",
    "df_temp = pd.concat([temp2020, temp2021], ignore_index=True)\n",
    "df_temp.rename({\"S1\": \"temperature\"}, axis=1, inplace=True)\n",
    "df_temp.Timestamp = pd.to_datetime(df.Timestamp, infer_datetime_format=True, utc=True).dt.tz_convert(tz=\"Europe/Berlin\")\n",
    "df_temp"
   ]
  },
  {
   "cell_type": "code",
   "execution_count": null,
   "metadata": {},
   "outputs": [],
   "source": [
    "# merge data frames\n",
    "df = pd.merge(df, df_temp, how=\"outer\", on=\"Timestamp\")\n",
    "df"
   ]
  },
  {
   "cell_type": "code",
   "execution_count": null,
   "metadata": {},
   "outputs": [],
   "source": [
    "fig = px.scatter(data_frame=df, y=\"heat_power\", x=\"temperature\")\n",
    "fig.show()"
   ]
  },
  {
   "attachments": {},
   "cell_type": "markdown",
   "metadata": {},
   "source": [
    "As expected, when the temperature is low, the heat demand is usually higher than at high temperatures."
   ]
  },
  {
   "attachments": {},
   "cell_type": "markdown",
   "metadata": {},
   "source": [
    "## Holydays and vacations"
   ]
  },
  {
   "cell_type": "code",
   "execution_count": null,
   "metadata": {},
   "outputs": [],
   "source": [
    "holy_2020 = pd.read_csv(\"../raw_data/feiertage_Bayern_2020.csv\", index_col=False)\n",
    "holy_2020"
   ]
  },
  {
   "cell_type": "code",
   "execution_count": null,
   "metadata": {},
   "outputs": [],
   "source": []
  }
 ],
 "metadata": {
  "kernelspec": {
   "display_name": ".venv",
   "language": "python",
   "name": "python3"
  },
  "language_info": {
   "codemirror_mode": {
    "name": "ipython",
    "version": 3
   },
   "file_extension": ".py",
   "mimetype": "text/x-python",
   "name": "python",
   "nbconvert_exporter": "python",
   "pygments_lexer": "ipython3",
   "version": "3.9.8"
  },
  "orig_nbformat": 4,
  "vscode": {
   "interpreter": {
    "hash": "49dc8dac69b53519c4198606ef71d7cee94ba11907745a79b6bb6b8f395d551e"
   }
  }
 },
 "nbformat": 4,
 "nbformat_minor": 2
}

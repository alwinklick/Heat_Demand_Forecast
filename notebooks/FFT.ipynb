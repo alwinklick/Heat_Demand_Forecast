{
 "cells": [
  {
   "attachments": {},
   "cell_type": "markdown",
   "metadata": {},
   "source": [
    "## Look at fourier transform\n",
    "A good thing to do with temporal data, especially whith seasonal patterns, is to do a fourier analysy. "
   ]
  },
  {
   "cell_type": "code",
   "execution_count": null,
   "metadata": {},
   "outputs": [],
   "source": [
    "X_t = df.heat_power.values\n",
    "X_f = np.fft.fft(X_t)\n",
    "fig = px.line(np.abs(X_f))\n",
    "fig.show()"
   ]
  },
  {
   "cell_type": "code",
   "execution_count": null,
   "metadata": {},
   "outputs": [],
   "source": []
  }
 ],
 "metadata": {
  "kernelspec": {
   "display_name": ".venv",
   "language": "python",
   "name": "python3"
  },
  "language_info": {
   "name": "python",
   "version": "3.9.8 (main, Feb  3 2023, 15:15:17) \n[GCC 8.3.0]"
  },
  "orig_nbformat": 4,
  "vscode": {
   "interpreter": {
    "hash": "49dc8dac69b53519c4198606ef71d7cee94ba11907745a79b6bb6b8f395d551e"
   }
  }
 },
 "nbformat": 4,
 "nbformat_minor": 2
}

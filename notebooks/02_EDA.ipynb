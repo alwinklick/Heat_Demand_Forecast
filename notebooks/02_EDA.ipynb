{
 "cells": [
  {
   "attachments": {},
   "cell_type": "markdown",
   "metadata": {},
   "source": [
    "# EDA\n"
   ]
  },
  {
   "cell_type": "markdown",
   "metadata": {},
   "source": [
    "\n",
    "## Exploratory Data Analysis\n",
    "\n",
    "To get better insights into our data we want to do some exploratory data analysis. The aim is to deepen our understanding. \n",
    "\n",
    "The way to do it is to come up with some initial hypotheses, that we then want to test using out data. \n",
    "\n",
    "__What are good hypotheses?__ _Everthing we beliefe to be true about our data before looking_"
   ]
  },
  {
   "cell_type": "markdown",
   "metadata": {},
   "source": []
  },
  {
   "attachments": {},
   "cell_type": "markdown",
   "metadata": {},
   "source": [
    "## Recap\n",
    "Last time plotted the date for visual inspection. The data was heat power or heat flow from a communal heat plant delivering heat to some 60 houses. We found that the data shows seasonal yearly and dayly variations. Let's Load the data again..."
   ]
  },
  {
   "cell_type": "code",
   "execution_count": 11,
   "metadata": {},
   "outputs": [],
   "source": [
    "import pandas as pd"
   ]
  },
  {
   "cell_type": "code",
   "execution_count": 4,
   "metadata": {},
   "outputs": [
    {
     "data": {
      "text/html": [
       "<div>\n",
       "<style scoped>\n",
       "    .dataframe tbody tr th:only-of-type {\n",
       "        vertical-align: middle;\n",
       "    }\n",
       "\n",
       "    .dataframe tbody tr th {\n",
       "        vertical-align: top;\n",
       "    }\n",
       "\n",
       "    .dataframe thead th {\n",
       "        text-align: right;\n",
       "    }\n",
       "</style>\n",
       "<table border=\"1\" class=\"dataframe\">\n",
       "  <thead>\n",
       "    <tr style=\"text-align: right;\">\n",
       "      <th></th>\n",
       "      <th>Timestamp</th>\n",
       "      <th>heat_power</th>\n",
       "      <th>flow_rate</th>\n",
       "      <th>leader_temp</th>\n",
       "      <th>return_temp</th>\n",
       "    </tr>\n",
       "  </thead>\n",
       "  <tbody>\n",
       "    <tr>\n",
       "      <th>0</th>\n",
       "      <td>2020-01-01 00:15:00+01:00</td>\n",
       "      <td>713.000</td>\n",
       "      <td>17650.000</td>\n",
       "      <td>81.000</td>\n",
       "      <td>46.000</td>\n",
       "    </tr>\n",
       "    <tr>\n",
       "      <th>1</th>\n",
       "      <td>2020-01-01 00:30:00+01:00</td>\n",
       "      <td>330.000</td>\n",
       "      <td>9600.000</td>\n",
       "      <td>81.000</td>\n",
       "      <td>51.000</td>\n",
       "    </tr>\n",
       "    <tr>\n",
       "      <th>2</th>\n",
       "      <td>2020-01-01 00:45:00+01:00</td>\n",
       "      <td>705.000</td>\n",
       "      <td>16730.000</td>\n",
       "      <td>81.000</td>\n",
       "      <td>44.000</td>\n",
       "    </tr>\n",
       "    <tr>\n",
       "      <th>3</th>\n",
       "      <td>2020-01-01 01:00:00+01:00</td>\n",
       "      <td>663.000</td>\n",
       "      <td>16890.000</td>\n",
       "      <td>81.000</td>\n",
       "      <td>47.000</td>\n",
       "    </tr>\n",
       "    <tr>\n",
       "      <th>4</th>\n",
       "      <td>2020-01-01 01:15:00+01:00</td>\n",
       "      <td>412.000</td>\n",
       "      <td>10690.000</td>\n",
       "      <td>81.000</td>\n",
       "      <td>48.000</td>\n",
       "    </tr>\n",
       "    <tr>\n",
       "      <th>...</th>\n",
       "      <td>...</td>\n",
       "      <td>...</td>\n",
       "      <td>...</td>\n",
       "      <td>...</td>\n",
       "      <td>...</td>\n",
       "    </tr>\n",
       "    <tr>\n",
       "      <th>102715</th>\n",
       "      <td>2022-12-07 23:00:00+01:00</td>\n",
       "      <td>488.286</td>\n",
       "      <td>23120.000</td>\n",
       "      <td>78.286</td>\n",
       "      <td>59.714</td>\n",
       "    </tr>\n",
       "    <tr>\n",
       "      <th>102716</th>\n",
       "      <td>2022-12-07 23:15:00+01:00</td>\n",
       "      <td>524.625</td>\n",
       "      <td>23136.250</td>\n",
       "      <td>79.375</td>\n",
       "      <td>59.500</td>\n",
       "    </tr>\n",
       "    <tr>\n",
       "      <th>102717</th>\n",
       "      <td>2022-12-07 23:30:00+01:00</td>\n",
       "      <td>435.143</td>\n",
       "      <td>21630.000</td>\n",
       "      <td>79.571</td>\n",
       "      <td>62.143</td>\n",
       "    </tr>\n",
       "    <tr>\n",
       "      <th>102718</th>\n",
       "      <td>2022-12-07 23:45:00+01:00</td>\n",
       "      <td>534.500</td>\n",
       "      <td>24685.000</td>\n",
       "      <td>78.750</td>\n",
       "      <td>59.750</td>\n",
       "    </tr>\n",
       "    <tr>\n",
       "      <th>102719</th>\n",
       "      <td>2022-12-08 00:00:00+01:00</td>\n",
       "      <td>465.286</td>\n",
       "      <td>23794.286</td>\n",
       "      <td>77.143</td>\n",
       "      <td>60.143</td>\n",
       "    </tr>\n",
       "  </tbody>\n",
       "</table>\n",
       "<p>102720 rows × 5 columns</p>\n",
       "</div>"
      ],
      "text/plain": [
       "                       Timestamp  heat_power  flow_rate  leader_temp  \\\n",
       "0      2020-01-01 00:15:00+01:00     713.000  17650.000       81.000   \n",
       "1      2020-01-01 00:30:00+01:00     330.000   9600.000       81.000   \n",
       "2      2020-01-01 00:45:00+01:00     705.000  16730.000       81.000   \n",
       "3      2020-01-01 01:00:00+01:00     663.000  16890.000       81.000   \n",
       "4      2020-01-01 01:15:00+01:00     412.000  10690.000       81.000   \n",
       "...                          ...         ...        ...          ...   \n",
       "102715 2022-12-07 23:00:00+01:00     488.286  23120.000       78.286   \n",
       "102716 2022-12-07 23:15:00+01:00     524.625  23136.250       79.375   \n",
       "102717 2022-12-07 23:30:00+01:00     435.143  21630.000       79.571   \n",
       "102718 2022-12-07 23:45:00+01:00     534.500  24685.000       78.750   \n",
       "102719 2022-12-08 00:00:00+01:00     465.286  23794.286       77.143   \n",
       "\n",
       "        return_temp  \n",
       "0            46.000  \n",
       "1            51.000  \n",
       "2            44.000  \n",
       "3            47.000  \n",
       "4            48.000  \n",
       "...             ...  \n",
       "102715       59.714  \n",
       "102716       59.500  \n",
       "102717       62.143  \n",
       "102718       59.750  \n",
       "102719       60.143  \n",
       "\n",
       "[102720 rows x 5 columns]"
      ]
     },
     "execution_count": 4,
     "metadata": {},
     "output_type": "execute_result"
    }
   ],
   "source": [
    "\n",
    "df = pd.read_csv(\"../data/heat_with_datetime.csv\")\n",
    "df.Timestamp = pd.to_datetime(df.Timestamp, infer_datetime_format=True, utc=True).dt.tz_convert(tz=\"Europe/Berlin\")\n",
    "df"
   ]
  },
  {
   "attachments": {},
   "cell_type": "markdown",
   "metadata": {},
   "source": [
    "## Initial hypotheses generation\n",
    "\n",
    "What are good initial hypotheses? Everthing we beliefe to be true about our data before looking. it can range from the obvieous to the obscure. __Rule of thumb: Don't beliefe anything without proof!__ Nothing is too apparently true to prove it. If it is true, we can proove it. \n",
    "\n",
    "For this case, let's test the following hypotheses:\n",
    "* Heat demand is larger in winter than in summer\n",
    "* Heat demand is largest in the early morning hours (heating buildings up after the night, shower before work)\n",
    "* I assume leader temperature and return temperature to be more or less stable, so heat power should correlate with (volume) flow rate. (These are actually three seperate)\n",
    "* heat power should be proportional to temperature difference times flow rate\n",
    "\n",
    "At this point, all of these hypotheses could be true or not. let's find out!"
   ]
  },
  {
   "attachments": {},
   "cell_type": "markdown",
   "metadata": {},
   "source": [
    "## Hypothesis testing\n"
   ]
  },
  {
   "attachments": {},
   "cell_type": "markdown",
   "metadata": {},
   "source": [
    "### Heat demand is larger in winter than in summer"
   ]
  },
  {
   "cell_type": "code",
   "execution_count": 6,
   "metadata": {},
   "outputs": [
    {
     "data": {
      "text/html": [
       "<div>\n",
       "<style scoped>\n",
       "    .dataframe tbody tr th:only-of-type {\n",
       "        vertical-align: middle;\n",
       "    }\n",
       "\n",
       "    .dataframe tbody tr th {\n",
       "        vertical-align: top;\n",
       "    }\n",
       "\n",
       "    .dataframe thead th {\n",
       "        text-align: right;\n",
       "    }\n",
       "</style>\n",
       "<table border=\"1\" class=\"dataframe\">\n",
       "  <thead>\n",
       "    <tr style=\"text-align: right;\">\n",
       "      <th></th>\n",
       "      <th>Timestamp</th>\n",
       "      <th>heat_power</th>\n",
       "      <th>flow_rate</th>\n",
       "      <th>leader_temp</th>\n",
       "      <th>return_temp</th>\n",
       "      <th>month</th>\n",
       "    </tr>\n",
       "  </thead>\n",
       "  <tbody>\n",
       "    <tr>\n",
       "      <th>0</th>\n",
       "      <td>2020-01-01 00:15:00+01:00</td>\n",
       "      <td>713.000</td>\n",
       "      <td>17650.000</td>\n",
       "      <td>81.000</td>\n",
       "      <td>46.000</td>\n",
       "      <td>1</td>\n",
       "    </tr>\n",
       "    <tr>\n",
       "      <th>1</th>\n",
       "      <td>2020-01-01 00:30:00+01:00</td>\n",
       "      <td>330.000</td>\n",
       "      <td>9600.000</td>\n",
       "      <td>81.000</td>\n",
       "      <td>51.000</td>\n",
       "      <td>1</td>\n",
       "    </tr>\n",
       "    <tr>\n",
       "      <th>2</th>\n",
       "      <td>2020-01-01 00:45:00+01:00</td>\n",
       "      <td>705.000</td>\n",
       "      <td>16730.000</td>\n",
       "      <td>81.000</td>\n",
       "      <td>44.000</td>\n",
       "      <td>1</td>\n",
       "    </tr>\n",
       "    <tr>\n",
       "      <th>3</th>\n",
       "      <td>2020-01-01 01:00:00+01:00</td>\n",
       "      <td>663.000</td>\n",
       "      <td>16890.000</td>\n",
       "      <td>81.000</td>\n",
       "      <td>47.000</td>\n",
       "      <td>1</td>\n",
       "    </tr>\n",
       "    <tr>\n",
       "      <th>4</th>\n",
       "      <td>2020-01-01 01:15:00+01:00</td>\n",
       "      <td>412.000</td>\n",
       "      <td>10690.000</td>\n",
       "      <td>81.000</td>\n",
       "      <td>48.000</td>\n",
       "      <td>1</td>\n",
       "    </tr>\n",
       "    <tr>\n",
       "      <th>...</th>\n",
       "      <td>...</td>\n",
       "      <td>...</td>\n",
       "      <td>...</td>\n",
       "      <td>...</td>\n",
       "      <td>...</td>\n",
       "      <td>...</td>\n",
       "    </tr>\n",
       "    <tr>\n",
       "      <th>102715</th>\n",
       "      <td>2022-12-07 23:00:00+01:00</td>\n",
       "      <td>488.286</td>\n",
       "      <td>23120.000</td>\n",
       "      <td>78.286</td>\n",
       "      <td>59.714</td>\n",
       "      <td>12</td>\n",
       "    </tr>\n",
       "    <tr>\n",
       "      <th>102716</th>\n",
       "      <td>2022-12-07 23:15:00+01:00</td>\n",
       "      <td>524.625</td>\n",
       "      <td>23136.250</td>\n",
       "      <td>79.375</td>\n",
       "      <td>59.500</td>\n",
       "      <td>12</td>\n",
       "    </tr>\n",
       "    <tr>\n",
       "      <th>102717</th>\n",
       "      <td>2022-12-07 23:30:00+01:00</td>\n",
       "      <td>435.143</td>\n",
       "      <td>21630.000</td>\n",
       "      <td>79.571</td>\n",
       "      <td>62.143</td>\n",
       "      <td>12</td>\n",
       "    </tr>\n",
       "    <tr>\n",
       "      <th>102718</th>\n",
       "      <td>2022-12-07 23:45:00+01:00</td>\n",
       "      <td>534.500</td>\n",
       "      <td>24685.000</td>\n",
       "      <td>78.750</td>\n",
       "      <td>59.750</td>\n",
       "      <td>12</td>\n",
       "    </tr>\n",
       "    <tr>\n",
       "      <th>102719</th>\n",
       "      <td>2022-12-08 00:00:00+01:00</td>\n",
       "      <td>465.286</td>\n",
       "      <td>23794.286</td>\n",
       "      <td>77.143</td>\n",
       "      <td>60.143</td>\n",
       "      <td>12</td>\n",
       "    </tr>\n",
       "  </tbody>\n",
       "</table>\n",
       "<p>102720 rows × 6 columns</p>\n",
       "</div>"
      ],
      "text/plain": [
       "                       Timestamp  heat_power  flow_rate  leader_temp  \\\n",
       "0      2020-01-01 00:15:00+01:00     713.000  17650.000       81.000   \n",
       "1      2020-01-01 00:30:00+01:00     330.000   9600.000       81.000   \n",
       "2      2020-01-01 00:45:00+01:00     705.000  16730.000       81.000   \n",
       "3      2020-01-01 01:00:00+01:00     663.000  16890.000       81.000   \n",
       "4      2020-01-01 01:15:00+01:00     412.000  10690.000       81.000   \n",
       "...                          ...         ...        ...          ...   \n",
       "102715 2022-12-07 23:00:00+01:00     488.286  23120.000       78.286   \n",
       "102716 2022-12-07 23:15:00+01:00     524.625  23136.250       79.375   \n",
       "102717 2022-12-07 23:30:00+01:00     435.143  21630.000       79.571   \n",
       "102718 2022-12-07 23:45:00+01:00     534.500  24685.000       78.750   \n",
       "102719 2022-12-08 00:00:00+01:00     465.286  23794.286       77.143   \n",
       "\n",
       "        return_temp  month  \n",
       "0            46.000      1  \n",
       "1            51.000      1  \n",
       "2            44.000      1  \n",
       "3            47.000      1  \n",
       "4            48.000      1  \n",
       "...             ...    ...  \n",
       "102715       59.714     12  \n",
       "102716       59.500     12  \n",
       "102717       62.143     12  \n",
       "102718       59.750     12  \n",
       "102719       60.143     12  \n",
       "\n",
       "[102720 rows x 6 columns]"
      ]
     },
     "execution_count": 6,
     "metadata": {},
     "output_type": "execute_result"
    }
   ],
   "source": [
    "# create a month column\n",
    "df[\"month\"] = df.Timestamp.dt.month\n",
    "df"
   ]
  },
  {
   "cell_type": "code",
   "execution_count": 12,
   "metadata": {},
   "outputs": [
    {
     "data": {
      "text/html": [
       "<div>\n",
       "<style scoped>\n",
       "    .dataframe tbody tr th:only-of-type {\n",
       "        vertical-align: middle;\n",
       "    }\n",
       "\n",
       "    .dataframe tbody tr th {\n",
       "        vertical-align: top;\n",
       "    }\n",
       "\n",
       "    .dataframe thead th {\n",
       "        text-align: right;\n",
       "    }\n",
       "</style>\n",
       "<table border=\"1\" class=\"dataframe\">\n",
       "  <thead>\n",
       "    <tr style=\"text-align: right;\">\n",
       "      <th></th>\n",
       "      <th>month</th>\n",
       "      <th>heat_power</th>\n",
       "    </tr>\n",
       "  </thead>\n",
       "  <tbody>\n",
       "    <tr>\n",
       "      <th>0</th>\n",
       "      <td>1</td>\n",
       "      <td>541.924145</td>\n",
       "    </tr>\n",
       "    <tr>\n",
       "      <th>1</th>\n",
       "      <td>2</td>\n",
       "      <td>468.593166</td>\n",
       "    </tr>\n",
       "    <tr>\n",
       "      <th>2</th>\n",
       "      <td>3</td>\n",
       "      <td>428.419350</td>\n",
       "    </tr>\n",
       "    <tr>\n",
       "      <th>3</th>\n",
       "      <td>4</td>\n",
       "      <td>330.996363</td>\n",
       "    </tr>\n",
       "    <tr>\n",
       "      <th>4</th>\n",
       "      <td>5</td>\n",
       "      <td>231.773948</td>\n",
       "    </tr>\n",
       "    <tr>\n",
       "      <th>5</th>\n",
       "      <td>6</td>\n",
       "      <td>159.347431</td>\n",
       "    </tr>\n",
       "    <tr>\n",
       "      <th>6</th>\n",
       "      <td>7</td>\n",
       "      <td>139.328958</td>\n",
       "    </tr>\n",
       "    <tr>\n",
       "      <th>7</th>\n",
       "      <td>8</td>\n",
       "      <td>136.037884</td>\n",
       "    </tr>\n",
       "    <tr>\n",
       "      <th>8</th>\n",
       "      <td>9</td>\n",
       "      <td>178.122322</td>\n",
       "    </tr>\n",
       "    <tr>\n",
       "      <th>9</th>\n",
       "      <td>10</td>\n",
       "      <td>279.619310</td>\n",
       "    </tr>\n",
       "    <tr>\n",
       "      <th>10</th>\n",
       "      <td>11</td>\n",
       "      <td>412.101548</td>\n",
       "    </tr>\n",
       "    <tr>\n",
       "      <th>11</th>\n",
       "      <td>12</td>\n",
       "      <td>523.200096</td>\n",
       "    </tr>\n",
       "  </tbody>\n",
       "</table>\n",
       "</div>"
      ],
      "text/plain": [
       "    month  heat_power\n",
       "0       1  541.924145\n",
       "1       2  468.593166\n",
       "2       3  428.419350\n",
       "3       4  330.996363\n",
       "4       5  231.773948\n",
       "5       6  159.347431\n",
       "6       7  139.328958\n",
       "7       8  136.037884\n",
       "8       9  178.122322\n",
       "9      10  279.619310\n",
       "10     11  412.101548\n",
       "11     12  523.200096"
      ]
     },
     "execution_count": 12,
     "metadata": {},
     "output_type": "execute_result"
    }
   ],
   "source": [
    "# test heat flow over month column\n",
    "heat_per_month = df[[\"heat_power\", \"month\"]].groupby(\"month\").mean().reset_index()\n",
    "heat_per_month"
   ]
  },
  {
   "cell_type": "code",
   "execution_count": 19,
   "metadata": {},
   "outputs": [
    {
     "data": {
      "image/png": "[encoded data removed]",
      "text/plain": [
       "<Figure size 640x480 with 1 Axes>"
      ]
     },
     "metadata": {},
     "output_type": "display_data"
    }
   ],
   "source": [
    "heat_per_month.plot.bar(x=\"month\", y=\"heat_power\");"
   ]
  },
  {
   "attachments": {},
   "cell_type": "markdown",
   "metadata": {},
   "source": [
    "Very clearly, we need more heat in the winter month, as eypected. No surprize here."
   ]
  },
  {
   "attachments": {},
   "cell_type": "markdown",
   "metadata": {},
   "source": [
    "### Heat demand is largest in the early morning hours"
   ]
  },
  {
   "cell_type": "code",
   "execution_count": 18,
   "metadata": {},
   "outputs": [
    {
     "data": {
      "image/png": "[encoded data removed]",
      "text/plain": [
       "<Figure size 640x480 with 1 Axes>"
      ]
     },
     "metadata": {},
     "output_type": "display_data"
    }
   ],
   "source": [
    "# create hour column, test heat demand over hour of day\n",
    "df[\"hour_of_day\"] = df.Timestamp.dt.hour\n",
    "heat_per_hour = df[[\"heat_power\", \"hour_of_day\"]].groupby(\"hour_of_day\").mean().reset_index()\n",
    "heat_per_hour.plot.bar(x=\"hour_of_day\", y=\"heat_power\");"
   ]
  },
  {
   "attachments": {},
   "cell_type": "markdown",
   "metadata": {},
   "source": [
    "We actually see two peaks, one around 3 am, the other around 9 am, which is both earlyer and later than I would have thunk. We then have a dip in the afternoon and then higher values during evening and night. The differences are less pronounced than expected."
   ]
  },
  {
   "cell_type": "markdown",
   "metadata": {},
   "source": [
    "### Leader temperature and return temperature are more or less stable"
   ]
  },
  {
   "cell_type": "code",
   "execution_count": 20,
   "metadata": {},
   "outputs": [
    {
     "data": {
      "text/html": [
       "<div>\n",
       "<style scoped>\n",
       "    .dataframe tbody tr th:only-of-type {\n",
       "        vertical-align: middle;\n",
       "    }\n",
       "\n",
       "    .dataframe tbody tr th {\n",
       "        vertical-align: top;\n",
       "    }\n",
       "\n",
       "    .dataframe thead th {\n",
       "        text-align: right;\n",
       "    }\n",
       "</style>\n",
       "<table border=\"1\" class=\"dataframe\">\n",
       "  <thead>\n",
       "    <tr style=\"text-align: right;\">\n",
       "      <th></th>\n",
       "      <th>leader_temp</th>\n",
       "      <th>return_temp</th>\n",
       "    </tr>\n",
       "  </thead>\n",
       "  <tbody>\n",
       "    <tr>\n",
       "      <th>count</th>\n",
       "      <td>100407.000000</td>\n",
       "      <td>100407.000000</td>\n",
       "    </tr>\n",
       "    <tr>\n",
       "      <th>mean</th>\n",
       "      <td>80.669413</td>\n",
       "      <td>60.028123</td>\n",
       "    </tr>\n",
       "    <tr>\n",
       "      <th>std</th>\n",
       "      <td>2.454392</td>\n",
       "      <td>4.824667</td>\n",
       "    </tr>\n",
       "    <tr>\n",
       "      <th>min</th>\n",
       "      <td>21.250000</td>\n",
       "      <td>42.000000</td>\n",
       "    </tr>\n",
       "    <tr>\n",
       "      <th>25%</th>\n",
       "      <td>81.000000</td>\n",
       "      <td>57.000000</td>\n",
       "    </tr>\n",
       "    <tr>\n",
       "      <th>50%</th>\n",
       "      <td>81.375000</td>\n",
       "      <td>60.000000</td>\n",
       "    </tr>\n",
       "    <tr>\n",
       "      <th>75%</th>\n",
       "      <td>82.000000</td>\n",
       "      <td>63.429000</td>\n",
       "    </tr>\n",
       "    <tr>\n",
       "      <th>max</th>\n",
       "      <td>89.000000</td>\n",
       "      <td>85.000000</td>\n",
       "    </tr>\n",
       "  </tbody>\n",
       "</table>\n",
       "</div>"
      ],
      "text/plain": [
       "         leader_temp    return_temp\n",
       "count  100407.000000  100407.000000\n",
       "mean       80.669413      60.028123\n",
       "std         2.454392       4.824667\n",
       "min        21.250000      42.000000\n",
       "25%        81.000000      57.000000\n",
       "50%        81.375000      60.000000\n",
       "75%        82.000000      63.429000\n",
       "max        89.000000      85.000000"
      ]
     },
     "execution_count": 20,
     "metadata": {},
     "output_type": "execute_result"
    }
   ],
   "source": [
    "# just look at .describe()\n",
    "df[[\"leader_temp\", \"return_temp\"]].describe()"
   ]
  },
  {
   "attachments": {},
   "cell_type": "markdown",
   "metadata": {},
   "source": [
    "Leader temperature appears to be quite stable with a mean of 80.7° and an std of 2.45°. Return temperature a bit less so with a mean of 60.0° and std of 4.82°. There seem to be outliers. "
   ]
  },
  {
   "attachments": {},
   "cell_type": "markdown",
   "metadata": {},
   "source": [
    "### Heat power correlates with (volume) flow rate."
   ]
  },
  {
   "cell_type": "code",
   "execution_count": 22,
   "metadata": {},
   "outputs": [
    {
     "data": {
      "image/png": "[encoded data removed]",
      "text/plain": [
       "<Figure size 640x480 with 1 Axes>"
      ]
     },
     "metadata": {},
     "output_type": "display_data"
    }
   ],
   "source": [
    "df.plot.scatter(x=\"flow_rate\", y=\"heat_power\");"
   ]
  },
  {
   "attachments": {},
   "cell_type": "markdown",
   "metadata": {},
   "source": [
    "There appears to be a strong correlation. We should have a closer look to see how strong it is. (but we won't do it now.)"
   ]
  },
  {
   "attachments": {},
   "cell_type": "markdown",
   "metadata": {},
   "source": [
    "### Heat power should be proportional to temperature difference times flow rate"
   ]
  },
  {
   "cell_type": "code",
   "execution_count": 24,
   "metadata": {},
   "outputs": [
    {
     "data": {
      "image/png": "[encoded data removed]",
      "text/plain": [
       "<Figure size 640x480 with 1 Axes>"
      ]
     },
     "metadata": {},
     "output_type": "display_data"
    }
   ],
   "source": [
    "df[\"heat_flow_calc\"] = (df.leader_temp - df.return_temp) * df.flow_rate\n",
    "df.plot.scatter(x=\"heat_flow_calc\", y=\"heat_power\");"
   ]
  },
  {
   "attachments": {},
   "cell_type": "markdown",
   "metadata": {},
   "source": [
    "Yep, that's pretty much a straight line."
   ]
  },
  {
   "attachments": {},
   "cell_type": "markdown",
   "metadata": {},
   "source": [
    "## Conclusion\n",
    "\n",
    "* __Heat demand is larger in winter than in summer__ - _Sure thing_\n",
    "* __Heat demand is largest in the early morning hours__ - _True but less pronounced and more complicated_\n",
    "* __Leader temperature and return temperature are stable__ - _mostly_\n",
    "* __Heat power correlates with (volume) flow rate__ - _for the most part, but not too stricly_\n",
    "* __Heat power is proportional to temperature difference times flow rate__ - _yes, absolutely_"
   ]
  }
 ],
 "metadata": {
  "kernelspec": {
   "display_name": ".venv",
   "language": "python",
   "name": "python3"
  },
  "language_info": {
   "codemirror_mode": {
    "name": "ipython",
    "version": 3
   },
   "file_extension": ".py",
   "mimetype": "text/x-python",
   "name": "python",
   "nbconvert_exporter": "python",
   "pygments_lexer": "ipython3",
   "version": "3.9.8"
  },
  "orig_nbformat": 4
 },
 "nbformat": 4,
 "nbformat_minor": 2
}
